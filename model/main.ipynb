{
 "cells": [
  {
   "cell_type": "code",
   "execution_count": 6,
   "metadata": {},
   "outputs": [
    {
     "name": "stderr",
     "output_type": "stream",
     "text": [
      "  0%|          | 0/1 [00:00<?, ?it/s]/home/bannai/anaconda3/envs/py37/lib/python3.7/site-packages/torch/nn/modules/loss.py:528: UserWarning: Using a target size (torch.Size([16, 112, 112])) that is different to the input size (torch.Size([16, 1, 112, 112])). This will likely lead to incorrect results due to broadcasting. Please ensure they have the same size.\n",
      "  return F.mse_loss(input, target, reduction=self.reduction)\n",
      "/home/bannai/anaconda3/envs/py37/lib/python3.7/site-packages/torch/nn/modules/loss.py:528: UserWarning: Using a target size (torch.Size([4, 112, 112])) that is different to the input size (torch.Size([4, 1, 112, 112])). This will likely lead to incorrect results due to broadcasting. Please ensure they have the same size.\n",
      "  return F.mse_loss(input, target, reduction=self.reduction)\n",
      "100%|██████████| 1/1 [00:43<00:00, 43.49s/it]\n"
     ]
    }
   ],
   "source": [
    "from data import *\n",
    "from util import *\n",
    "from model import *\n",
    "from loss import *\n",
    "from train import *\n",
    "from eval import *\n",
    "\n",
    "device = torch.device(\"cuda:0\" if torch.cuda.is_available() else \"cpu\")\n",
    "fix_seed(42)\n",
    "\n",
    "alpha = 1\n",
    "strategy = {\n",
    "    \"rainmask_start\":20, \"rainmask_end\":30,\n",
    "    \"mix_start\":0, \"mix_end\":10,\n",
    "    \"rainrate_start\":200, \"rainrate_end\":210,\n",
    "    \"cloudwater_start\":210, \"cloudwater_end\":220,\n",
    "    \"cloudice_start\":220, \"cloudice_end\":230\n",
    "    }\n",
    "\n",
    "# Path to Dataset\n",
    "path_train = \"../data/feature/dataset_112_10per_local/train/**/*.npy\"\n",
    "path_val = \"../data/feature/dataset_112_10per_local/val/**/*.npy\"\n",
    "path_test = \"../data/feature/dataset_112_10per_local/test/**/*.npy\"\n",
    "\n",
    "train_dataset, val_dataset, test_dataset = prepare_dataset(path_train, \n",
    "                                                           path_val,\n",
    "                                                           path_test,\n",
    "                                                           n_sample = None,\n",
    "                                                           prep_method = \"norm\")\n",
    "print(\"Data size: \", len(train_dataset), len(val_dataset), len(test_dataset))\n",
    "\n",
    "# Multi-task-Multi-input\n",
    "model = PersiannMTLMultiInput_CWCI().to(device)\n",
    "MTLloss = MTLLoss_CWCI\n",
    "run_PERSIANN_MTL_MultiInput(model, train_dataset, val_dataset, device,\n",
    "                            MTLloss, strategy, alpha,\n",
    "                            cloud_type=\"CWCI\", batch_size = 48, epoch = 1,\n",
    "                            opt = \"Adam\", lr=0.0001, \n",
    "                            save_dir = \"./output/PERSIAN_MTMI_CWCI\",\n",
    "                            loss_break=True)"
   ]
  },
  {
   "cell_type": "code",
   "execution_count": null,
   "metadata": {},
   "outputs": [],
   "source": []
  }
 ],
 "metadata": {
  "kernelspec": {
   "display_name": "Python 3",
   "language": "python",
   "name": "python3"
  },
  "language_info": {
   "codemirror_mode": {
    "name": "ipython",
    "version": 3
   },
   "file_extension": ".py",
   "mimetype": "text/x-python",
   "name": "python",
   "nbconvert_exporter": "python",
   "pygments_lexer": "ipython3",
   "version": "3.7.7"
  }
 },
 "nbformat": 4,
 "nbformat_minor": 4
}
